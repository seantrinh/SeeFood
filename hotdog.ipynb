{
 "cells": [
  {
   "cell_type": "markdown",
   "metadata": {},
   "source": [
    "Packages"
   ]
  },
  {
   "cell_type": "code",
   "execution_count": 85,
   "metadata": {},
   "outputs": [],
   "source": [
    "import numpy as np\n",
    "import os\n",
    "from keras.preprocessing.image import load_img, img_to_array\n",
    "from keras.preprocessing.image import ImageDataGenerator\n",
    "from keras.applications.resnet50 import preprocess_input\n",
    "from keras import Sequential\n",
    "from keras.layers import Flatten, Dense, Conv2D, Dropout, BatchNormalization, Activation, MaxPooling2D\n",
    "from keras import optimizers, regularizers\n",
    "from keras.applications import VGG16"
   ]
  },
  {
   "cell_type": "markdown",
   "metadata": {},
   "source": [
    "Loading Data"
   ]
  },
  {
   "cell_type": "code",
   "execution_count": 86,
   "metadata": {},
   "outputs": [],
   "source": [
    "train_path = './data/train'\n",
    "test_path = './data/test'\n",
    "hot_dog_path = './data/train/hot_dog'\n",
    "not_hot_dog_path = './data/train/not_hot_dog'"
   ]
  },
  {
   "cell_type": "markdown",
   "metadata": {},
   "source": [
    "Initialization"
   ]
  },
  {
   "cell_type": "code",
   "execution_count": 87,
   "metadata": {},
   "outputs": [
    {
     "name": "stdout",
     "output_type": "stream",
     "text": [
      "Found 498 images belonging to 2 classes.\n",
      "Found 500 images belonging to 2 classes.\n"
     ]
    }
   ],
   "source": [
    "img_size = 150 #224\n",
    "num_classes = 2 # hot dog or not hot dog\n",
    "\n",
    "data_generator = ImageDataGenerator(rescale=1./255,\n",
    "                                rotation_range=90,\n",
    "                                width_shift_range=0.2,\n",
    "                                height_shift_range=0.2,\n",
    "                                horizontal_flip=True,\n",
    "                                shear_range=0.2,\n",
    "                                zoom_range=0.2)\n",
    "\n",
    "test_generator = ImageDataGenerator(rescale=1./255)\n",
    "\n",
    "train_generator = data_generator.flow_from_directory(\n",
    "    train_path,\n",
    "    target_size=(img_size, img_size),\n",
    "    batch_size=498, #498\n",
    "    class_mode='binary') #categorical\n",
    "\n",
    "validation_generator = test_generator.flow_from_directory(\n",
    "    test_path,\n",
    "    target_size=(img_size, img_size),\n",
    "    batch_size=500, #500\n",
    "    class_mode='binary') #categorical"
   ]
  },
  {
   "cell_type": "markdown",
   "metadata": {},
   "source": [
    "Model"
   ]
  },
  {
   "cell_type": "code",
   "execution_count": 88,
   "metadata": {},
   "outputs": [
    {
     "name": "stdout",
     "output_type": "stream",
     "text": [
      "_________________________________________________________________\n",
      "Layer (type)                 Output Shape              Param #   \n",
      "=================================================================\n",
      "vgg16 (Model)                (None, 4, 4, 512)         14714688  \n",
      "_________________________________________________________________\n",
      "flatten_11 (Flatten)         (None, 8192)              0         \n",
      "_________________________________________________________________\n",
      "dense_20 (Dense)             (None, 256)               2097408   \n",
      "_________________________________________________________________\n",
      "dense_21 (Dense)             (None, 1)                 257       \n",
      "=================================================================\n",
      "Total params: 16,812,353\n",
      "Trainable params: 2,097,665\n",
      "Non-trainable params: 14,714,688\n",
      "_________________________________________________________________\n"
     ]
    }
   ],
   "source": [
    "conv_base = VGG16(weights='imagenet',\n",
    "                        include_top=False,\n",
    "                        input_shape=(img_size, img_size, 3))\n",
    "conv_base.trainable = False\n",
    "\n",
    "model = Sequential()\n",
    "model.add(conv_base)\n",
    "model.add(Flatten())\n",
    "model.add(Dense(256, activation='relu'))\n",
    "model.add(Dense(1, activation='sigmoid'))\n",
    "\n",
    "model.summary()"
   ]
  },
  {
   "cell_type": "code",
   "execution_count": 89,
   "metadata": {},
   "outputs": [
    {
     "name": "stdout",
     "output_type": "stream",
     "text": [
      "Train on 398 samples, validate on 100 samples\n",
      "Epoch 1/10\n",
      "398/398 [==============================] - 67s 168ms/step - loss: 0.8017 - acc: 0.5628 - val_loss: 0.6597 - val_acc: 0.6400\n",
      "Epoch 2/10\n",
      "398/398 [==============================] - 70s 176ms/step - loss: 0.5369 - acc: 0.7739 - val_loss: 0.5592 - val_acc: 0.7200\n",
      "Epoch 3/10\n",
      "398/398 [==============================] - 68s 170ms/step - loss: 0.4650 - acc: 0.7940 - val_loss: 0.5344 - val_acc: 0.7100\n",
      "Epoch 4/10\n",
      "398/398 [==============================] - 69s 174ms/step - loss: 0.3838 - acc: 0.8643 - val_loss: 0.5689 - val_acc: 0.7300\n",
      "Epoch 5/10\n",
      "398/398 [==============================] - 68s 171ms/step - loss: 0.3209 - acc: 0.9121 - val_loss: 0.7641 - val_acc: 0.5600\n",
      "Epoch 6/10\n",
      "398/398 [==============================] - 67s 169ms/step - loss: 0.2697 - acc: 0.9397 - val_loss: 0.8428 - val_acc: 0.5300\n",
      "Epoch 7/10\n",
      "398/398 [==============================] - 68s 170ms/step - loss: 0.2332 - acc: 0.9523 - val_loss: 0.5142 - val_acc: 0.7300\n",
      "Epoch 8/10\n",
      "398/398 [==============================] - 64s 162ms/step - loss: 0.2227 - acc: 0.9447 - val_loss: 0.6164 - val_acc: 0.6900\n",
      "Epoch 9/10\n",
      "398/398 [==============================] - 68s 172ms/step - loss: 0.1563 - acc: 0.9849 - val_loss: 0.5278 - val_acc: 0.7200\n",
      "Epoch 10/10\n",
      "398/398 [==============================] - 69s 172ms/step - loss: 0.1514 - acc: 0.9874 - val_loss: 0.5077 - val_acc: 0.7600\n"
     ]
    }
   ],
   "source": [
    "#LEARNING RATE\n",
    "learning_rate = 1E-4\n",
    "model.compile(loss='binary_crossentropy',\n",
    "              optimizer=optimizers.RMSprop(lr=learning_rate),\n",
    "              metrics=['accuracy'])\n",
    "\n",
    "input_x = (train_generator[0][0])\n",
    "input_y = (train_generator[0][1])\n",
    "\n",
    "history = model.fit(input_x,\n",
    "          input_y,\n",
    "          batch_size=32,\n",
    "          validation_split=0.2,\n",
    "          epochs=10)"
   ]
  },
  {
   "cell_type": "code",
   "execution_count": 90,
   "metadata": {},
   "outputs": [
    {
     "data": {
      "image/png": "[encoded data removed]",
      "text/plain": [
       "<Figure size 432x288 with 1 Axes>"
      ]
     },
     "metadata": {
      "needs_background": "light"
     },
     "output_type": "display_data"
    }
   ],
   "source": [
    "import matplotlib.pyplot as plt\n",
    "%matplotlib inline\n",
    "\n",
    "acc = history.history['acc']\n",
    "val_acc = history.history['val_acc']\n",
    "\n",
    "epochs = range(len(acc))\n",
    "\n",
    "plt.plot(epochs, acc, 'bo', label='Training')\n",
    "plt.plot(epochs, val_acc, 'r', label='Validation')\n",
    "plt.xlabel('Epochs')\n",
    "plt.ylabel('Accuracy')\n",
    "plt.legend()\n",
    "plt.show()"
   ]
  },
  {
   "cell_type": "code",
   "execution_count": 91,
   "metadata": {},
   "outputs": [
    {
     "data": {
      "image/png": "[encoded data removed]",
      "text/plain": [
       "<Figure size 432x288 with 1 Axes>"
      ]
     },
     "metadata": {
      "needs_background": "light"
     },
     "output_type": "display_data"
    }
   ],
   "source": [
    "import matplotlib.pyplot as plt\n",
    "%matplotlib inline\n",
    "\n",
    "l1 = history.history['loss']\n",
    "l2 = history.history['val_loss']\n",
    "\n",
    "epochs = range(len(l1))\n",
    "\n",
    "plt.plot(epochs, l1, 'bo', label='Training')\n",
    "plt.plot(epochs, l2, 'r', label='Validation')\n",
    "plt.xlabel('Epochs')\n",
    "plt.ylabel('Loss')\n",
    "plt.legend()\n",
    "plt.show()"
   ]
  },
  {
   "cell_type": "code",
   "execution_count": 92,
   "metadata": {},
   "outputs": [
    {
     "name": "stdout",
     "output_type": "stream",
     "text": [
      "500/500 [==============================] - 69s 139ms/step\n",
      "loss = 0.4836890201568603\n",
      "accuracy = 0.7580000004768371\n"
     ]
    }
   ],
   "source": [
    "output_x = (validation_generator[0][0])\n",
    "output_y = validation_generator[0][1]\n",
    "\n",
    "loss_and_acc = model.evaluate(output_x, output_y)\n",
    "print('loss = ' + str(loss_and_acc[0]))\n",
    "print('accuracy = ' + str(loss_and_acc[1]))"
   ]
  },
  {
   "cell_type": "code",
   "execution_count": null,
   "metadata": {},
   "outputs": [],
   "source": []
  }
 ],
 "metadata": {
  "kernelspec": {
   "display_name": "Python 3",
   "language": "python",
   "name": "python3"
  },
  "language_info": {
   "codemirror_mode": {
    "name": "ipython",
    "version": 3
   },
   "file_extension": ".py",
   "mimetype": "text/x-python",
   "name": "python",
   "nbconvert_exporter": "python",
   "pygments_lexer": "ipython3",
   "version": "3.6.1"
  }
 },
 "nbformat": 4,
 "nbformat_minor": 2
}
