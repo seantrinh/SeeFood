{
 "cells": [
  {
   "cell_type": "markdown",
   "metadata": {},
   "source": [
    "Packages"
   ]
  },
  {
   "cell_type": "code",
   "execution_count": 34,
   "metadata": {},
   "outputs": [],
   "source": [
    "import numpy as np\n",
    "import os\n",
    "from keras.preprocessing.image import load_img, img_to_array\n",
    "from keras.preprocessing.image import ImageDataGenerator\n",
    "from keras.applications.resnet50 import preprocess_input\n",
    "from keras import Sequential\n",
    "from keras.layers import Flatten, Dense, Conv2D, Dropout, BatchNormalization, Activation, MaxPooling2D\n",
    "from keras import optimizers, regularizers\n",
    "from keras.applications import VGG16"
   ]
  },
  {
   "cell_type": "markdown",
   "metadata": {},
   "source": [
    "Loading Data"
   ]
  },
  {
   "cell_type": "code",
   "execution_count": 35,
   "metadata": {},
   "outputs": [],
   "source": [
    "train_path = './data/train'\n",
    "test_path = './data/test'\n",
    "hot_dog_path = './data/train/hot_dog'\n",
    "not_hot_dog_path = './data/train/not_hot_dog'"
   ]
  },
  {
   "cell_type": "markdown",
   "metadata": {},
   "source": [
    "Initialization"
   ]
  },
  {
   "cell_type": "code",
   "execution_count": 36,
   "metadata": {},
   "outputs": [
    {
     "name": "stdout",
     "output_type": "stream",
     "text": [
      "Found 498 images belonging to 2 classes.\n",
      "Found 500 images belonging to 2 classes.\n"
     ]
    }
   ],
   "source": [
    "img_size = 150 #224\n",
    "num_classes = 2 # hot dog or not hot dog\n",
    "\n",
    "data_generator = ImageDataGenerator(rescale=1./255,\n",
    "                                rotation_range=90,\n",
    "                                width_shift_range=0.2,\n",
    "                                height_shift_range=0.2,\n",
    "                                horizontal_flip=True,\n",
    "                                shear_range=0.2,\n",
    "                                zoom_range=0.2)\n",
    "\n",
    "test_generator = ImageDataGenerator(rescale=1./255)\n",
    "\n",
    "train_generator = data_generator.flow_from_directory(\n",
    "    train_path,\n",
    "    target_size=(img_size, img_size),\n",
    "    batch_size=498, #498\n",
    "    class_mode='binary') #categorical\n",
    "\n",
    "validation_generator = test_generator.flow_from_directory(\n",
    "    test_path,\n",
    "    target_size=(img_size, img_size),\n",
    "    batch_size=500, #500\n",
    "    class_mode='binary') #categorical"
   ]
  },
  {
   "cell_type": "markdown",
   "metadata": {},
   "source": [
    "Model"
   ]
  },
  {
   "cell_type": "code",
   "execution_count": 42,
   "metadata": {},
   "outputs": [
    {
     "name": "stdout",
     "output_type": "stream",
     "text": [
      "_________________________________________________________________\n",
      "Layer (type)                 Output Shape              Param #   \n",
      "=================================================================\n",
      "vgg16 (Model)                (None, 4, 4, 512)         14714688  \n",
      "_________________________________________________________________\n",
      "flatten_7 (Flatten)          (None, 8192)              0         \n",
      "_________________________________________________________________\n",
      "dense_13 (Dense)             (None, 1)                 8193      \n",
      "=================================================================\n",
      "Total params: 14,722,881\n",
      "Trainable params: 8,193\n",
      "Non-trainable params: 14,714,688\n",
      "_________________________________________________________________\n"
     ]
    }
   ],
   "source": [
    "conv_base = VGG16(weights='imagenet',\n",
    "                        include_top=False,\n",
    "                        input_shape=(img_size, img_size, 3))\n",
    "conv_base.trainable = False\n",
    "\n",
    "model = Sequential()\n",
    "model.add(conv_base)\n",
    "model.add(Flatten())\n",
    "#model.add(Dropout(0.7))\n",
    "#model.add(Dense(256, activation='relu'))\n",
    "model.add(Dense(1, activation='sigmoid'))\n",
    "\n",
    "model.summary()"
   ]
  },
  {
   "cell_type": "code",
   "execution_count": 47,
   "metadata": {},
   "outputs": [
    {
     "name": "stdout",
     "output_type": "stream",
     "text": [
      "Epoch 1/10\n",
      "498/498 [==============================] - 54s 108ms/step - loss: 0.6068 - acc: 0.6888\n",
      "Epoch 2/10\n",
      "498/498 [==============================] - 64s 129ms/step - loss: 0.5845 - acc: 0.7149\n",
      "Epoch 3/10\n",
      "498/498 [==============================] - 67s 134ms/step - loss: 0.5692 - acc: 0.7289\n",
      "Epoch 4/10\n",
      "498/498 [==============================] - 61s 121ms/step - loss: 0.5537 - acc: 0.7510\n",
      "Epoch 5/10\n",
      "498/498 [==============================] - 63s 126ms/step - loss: 0.5428 - acc: 0.7590\n",
      "Epoch 6/10\n",
      "498/498 [==============================] - 65s 130ms/step - loss: 0.5312 - acc: 0.7751\n",
      "Epoch 7/10\n",
      "498/498 [==============================] - 60s 121ms/step - loss: 0.5210 - acc: 0.7731\n",
      "Epoch 8/10\n",
      "498/498 [==============================] - 58s 116ms/step - loss: 0.5081 - acc: 0.7851\n",
      "Epoch 9/10\n",
      "498/498 [==============================] - 60s 120ms/step - loss: 0.4985 - acc: 0.8092\n",
      "Epoch 10/10\n",
      "498/498 [==============================] - 60s 121ms/step - loss: 0.4877 - acc: 0.8233\n"
     ]
    }
   ],
   "source": [
    "#LEARNING RATE\n",
    "learning_rate = 1E-4\n",
    "model.compile(loss='binary_crossentropy',\n",
    "              optimizer=optimizers.RMSprop(lr=learning_rate),\n",
    "              metrics=['accuracy'])\n",
    "\n",
    "input_x = (train_generator[0][0])\n",
    "input_y = (train_generator[0][1])\n",
    "\n",
    "history = model.fit(input_x,\n",
    "          input_y,\n",
    "          batch_size=32,\n",
    "          #validation_split=0.2,\n",
    "          epochs=10)"
   ]
  },
  {
   "cell_type": "code",
   "execution_count": 49,
   "metadata": {},
   "outputs": [
    {
     "data": {
      "image/png": "[encoded data removed]",
      "text/plain": [
       "<Figure size 432x288 with 1 Axes>"
      ]
     },
     "metadata": {
      "needs_background": "light"
     },
     "output_type": "display_data"
    }
   ],
   "source": [
    "import matplotlib.pyplot as plt\n",
    "%matplotlib inline\n",
    "\n",
    "acc = history.history['acc']\n",
    "#val_acc = history.history['val_acc']\n",
    "\n",
    "epochs = range(len(acc))\n",
    "\n",
    "plt.plot(epochs, acc, 'bo', label='Training')\n",
    "#plt.plot(epochs, val_acc, 'r', label='Validation')\n",
    "plt.xlabel('Epochs')\n",
    "plt.ylabel('Accuracy')\n",
    "plt.legend()\n",
    "plt.show()"
   ]
  },
  {
   "cell_type": "code",
   "execution_count": 50,
   "metadata": {},
   "outputs": [
    {
     "data": {
      "image/png": "[encoded data removed]",
      "text/plain": [
       "<Figure size 432x288 with 1 Axes>"
      ]
     },
     "metadata": {
      "needs_background": "light"
     },
     "output_type": "display_data"
    }
   ],
   "source": [
    "import matplotlib.pyplot as plt\n",
    "%matplotlib inline\n",
    "\n",
    "l1 = history.history['loss']\n",
    "#l2 = history.history['val_loss']\n",
    "\n",
    "epochs = range(len(l1))\n",
    "\n",
    "plt.plot(epochs, l1, 'bo', label='Training')\n",
    "#plt.plot(epochs, l2, 'r', label='Validation')\n",
    "plt.xlabel('Epochs')\n",
    "plt.ylabel('Loss')\n",
    "plt.legend()\n",
    "plt.show()"
   ]
  },
  {
   "cell_type": "code",
   "execution_count": 51,
   "metadata": {},
   "outputs": [
    {
     "name": "stdout",
     "output_type": "stream",
     "text": [
      "500/500 [==============================] - 57s 115ms/step\n",
      "loss = 0.5086924624443054\n",
      "accuracy = 0.76\n"
     ]
    }
   ],
   "source": [
    "output_x = (validation_generator[0][0])\n",
    "output_y = validation_generator[0][1]\n",
    "\n",
    "loss_and_acc = model.evaluate(output_x, output_y)\n",
    "print('loss = ' + str(loss_and_acc[0]))\n",
    "print('accuracy = ' + str(loss_and_acc[1]))"
   ]
  },
  {
   "cell_type": "code",
   "execution_count": null,
   "metadata": {},
   "outputs": [],
   "source": []
  }
 ],
 "metadata": {
  "kernelspec": {
   "display_name": "Python 3",
   "language": "python",
   "name": "python3"
  },
  "language_info": {
   "codemirror_mode": {
    "name": "ipython",
    "version": 3
   },
   "file_extension": ".py",
   "mimetype": "text/x-python",
   "name": "python",
   "nbconvert_exporter": "python",
   "pygments_lexer": "ipython3",
   "version": "3.6.1"
  }
 },
 "nbformat": 4,
 "nbformat_minor": 2
}
